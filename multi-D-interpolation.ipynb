{
 "cells": [
  {
   "cell_type": "code",
   "execution_count": 18,
   "metadata": {},
   "outputs": [],
   "source": [
    "import numpy as np\n",
    "import matplotlib.pyplot as plt\n",
    "%matplotlib inline"
   ]
  },
  {
   "cell_type": "code",
   "execution_count": 69,
   "metadata": {},
   "outputs": [],
   "source": [
    "Nx = 8\n",
    "Ny = 6\n",
    "x = np.linspace(0,10,Nx)\n",
    "y = np.linspace(0,5, Ny)\n",
    "f = np.zeros((Nx,Ny))\n",
    "for i in range(Nx):\n",
    "    for j in range(Ny):\n",
    "        f[i,j] = np.sin(x[i])*np.cos(y[j])\n"
   ]
  },
  {
   "cell_type": "code",
   "execution_count": 5,
   "metadata": {},
   "outputs": [],
   "source": [
    "def LI_1D(x, f, xi, Lgeneric=True):\n",
    "    \n",
    "    if Lgeneric:\n",
    "        ilo  = int(xi/(x[1]-x[0]))\n",
    "        if ilo < 0:\n",
    "            ilo = 0\n",
    "        elif ilo >= len(x)-1:\n",
    "            ilo = len(x)-2\n",
    "        ihi  = ilo + 1\n",
    "        return f[ilo] + (xi - x[ilo]) * (f[ihi]-f[ilo])/(x[ihi]-x[ilo])\n",
    "    else:\n",
    "        return f[0] + (xi - x[0]) * (f[1]-f[0])/(x[1]-x[0])\n",
    "    "
   ]
  },
  {
   "cell_type": "code",
   "execution_count": 6,
   "metadata": {},
   "outputs": [],
   "source": [
    "def LI_2D(x,y, f, xP, yP):\n",
    "    dx   = x[1]-x[0]\n",
    "    \n",
    "    ilo  = int(xP/dx)\n",
    "    if ilo < 0:\n",
    "        ilo = 0\n",
    "    elif ilo >= len(x)-1:\n",
    "        ilo = len(x)-2\n",
    "    ihi  = ilo + 1\n",
    "    \n",
    "    #---------- interpolate grid to yP\n",
    "    \n",
    "    flo = LI_1D(y, f[ilo,:], yP)       # f at yP, x[ilo]\n",
    "    fhi = LI_1D(y, f[ihi,:], yP)       # f at yP, x[ihi]\n",
    "    \n",
    "    #---------- interpolate final x direction\n",
    "    \n",
    "    return LI_1D( np.array([x[ilo], x[ihi]]), np.array([flo, fhi]), xP, False)\n"
   ]
  },
  {
   "cell_type": "code",
   "execution_count": 7,
   "metadata": {},
   "outputs": [],
   "source": [
    "def LI_3D(x,y,z, f, xP, yP, zP):\n",
    "    \n",
    "    dx   = x[1]-x[0]\n",
    "    \n",
    "    ilo  = int(xP/dx)\n",
    "    if ilo < 0:\n",
    "        ilo = 0\n",
    "    elif ilo >= len(x)-1:\n",
    "        ilo = len(x)-2\n",
    "    ihi  = ilo + 1\n",
    "    \n",
    "    #---------- interpolate grid to yP, zP\n",
    "    \n",
    "    flo = LI_2D(y,z, f[ilo,:,:], yP,zP)    # f at yP,zP, x[ilo]\n",
    "    fhi = LI_2D(y,z, f[ihi,:,:], yP,zP)    # f at yP,zP, x[ihi]\n",
    "    \n",
    "    #---------- interpolate final x direction\n",
    "    \n",
    "    return LI_1D( np.array([x[ilo], x[ihi]]), np.array([flo, fhi]), xP, False)\n",
    "    "
   ]
  },
  {
   "cell_type": "code",
   "execution_count": 8,
   "metadata": {},
   "outputs": [],
   "source": [
    "def LI_4D(x,y,z,w, f, xP, yP, zP, wP):\n",
    "    \n",
    "    dx   = x[1]-x[0]\n",
    "    \n",
    "    ilo  = int(xP/dx)\n",
    "    if ilo < 0:\n",
    "        ilo = 0\n",
    "    elif ilo >= len(x)-1:\n",
    "        ilo = len(x)-2\n",
    "    ihi  = ilo + 1\n",
    "    \n",
    "    #---------- interpolate grid to yP, zP\n",
    "    \n",
    "    flo = LI_3D(y,z,w, f[ilo,:,:,:], yP,zP,wP)    # f at yP,zP,wP, x[ilo]\n",
    "    fhi = LI_3D(y,z,w, f[ihi,:,:,:], yP,zP,wP)    # f at yP,zP,wP x[ihi]\n",
    "    \n",
    "    #---------- interpolate final x direction\n",
    "    \n",
    "    return LI_1D( np.array([x[ilo], x[ihi]]), np.array([flo, fhi]), xP, False)\n",
    "    "
   ]
  },
  {
   "cell_type": "code",
   "execution_count": 100,
   "metadata": {},
   "outputs": [],
   "source": [
    "\n",
    "def LI_5D(x,y,z,w,a, f, xP, yP, zP, wP, aP):\n",
    "    \n",
    "    dx   = x[1]-x[0]\n",
    "    \n",
    "    ilo  = int(xP/dx)\n",
    "    if ilo < 0:\n",
    "        ilo = 0\n",
    "    elif ilo >= len(x)-1:\n",
    "        ilo = len(x)-2\n",
    "    ihi  = ilo + 1\n",
    "    \n",
    "    #---------- interpolate grid to yP, zP\n",
    "    \n",
    "    flo = LI_4D(y,z,w,a, f[ilo,:,:,:,:], yP,zP,wP,aP)    # f at yP,zP,wP,aP x[ilo]\n",
    "    fhi = LI_4D(y,z,w,a, f[ihi,:,:,:,:], yP,zP,wP,aP)    # f at yP,zP,wP,aP x[ihi]\n",
    "    \n",
    "    #---------- interpolate final x direction\n",
    "    \n",
    "    return LI_1D( np.array([x[ilo], x[ihi]]), np.array([flo, fhi]), xP, False)\n",
    "    "
   ]
  },
  {
   "cell_type": "code",
   "execution_count": null,
   "metadata": {},
   "outputs": [],
   "source": []
  }
 ],
 "metadata": {
  "hide_input": false,
  "kernelspec": {
   "display_name": "Python 3",
   "language": "python",
   "name": "python3"
  },
  "language_info": {
   "codemirror_mode": {
    "name": "ipython",
    "version": 3
   },
   "file_extension": ".py",
   "mimetype": "text/x-python",
   "name": "python",
   "nbconvert_exporter": "python",
   "pygments_lexer": "ipython3",
   "version": "3.7.0"
  }
 },
 "nbformat": 4,
 "nbformat_minor": 2
}
