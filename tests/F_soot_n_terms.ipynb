{
 "cells": [
  {
   "cell_type": "code",
   "execution_count": 61,
   "metadata": {
    "collapsed": true
   },
   "outputs": [],
   "source": [
    "import numpy as np\n",
    "import matplotlib.pyplot as plt\n",
    "%matplotlib inline"
   ]
  },
  {
   "cell_type": "markdown",
   "metadata": {},
   "source": [
    "Test Chang's representation of the soot F(C) profile.\n",
    "This is an infinite sum, so at a given point, look at the variation of F with n."
   ]
  },
  {
   "cell_type": "code",
   "execution_count": 60,
   "metadata": {},
   "outputs": [
    {
     "name": "stdout",
     "output_type": "stream",
     "text": [
      "[  2.42800145e+01   8.84196901e+00   4.01517539e+00   2.07719812e+00\n",
      "   1.16934463e+00   6.97843964e-01   4.34449464e-01   2.79203360e-01\n",
      "   1.83899434e-01   1.23510361e-01   8.42693811e-02   5.82458139e-02\n",
      "   4.06964964e-02   2.86958882e-02   2.03927430e-02   1.45901710e-02\n",
      "   1.05001393e-02   7.59569036e-03   5.51971478e-03   4.02739565e-03\n",
      "   2.94920243e-03   2.16670035e-03   1.59650613e-03   1.17950980e-03\n",
      "   8.73551950e-04   6.48398346e-04   4.82260379e-04   3.59366429e-04\n",
      "   2.68254619e-04   2.00564921e-04   1.50179586e-04   1.12608231e-04\n",
      "   8.45458338e-05   6.35536552e-05   4.78279627e-05   3.60318059e-05\n",
      "   2.71722367e-05   2.05104280e-05   1.54956891e-05   1.17168973e-05\n",
      "   8.86666563e-06   6.71484399e-06   5.08888566e-06   3.85926947e-06\n",
      "   2.92865911e-06   2.22382393e-06   1.68961368e-06   1.28445326e-06\n",
      "   9.76971971e-07   7.43478816e-07   5.66067753e-07   4.31193754e-07\n",
      "   3.28603669e-07   2.50530323e-07   1.91085816e-07   1.45804234e-07\n",
      "   1.11295613e-07   8.49860304e-08   6.49187070e-08   4.96068715e-08\n",
      "   3.79188704e-08   2.89938537e-08   2.21763829e-08   1.69666290e-08\n",
      "   1.29846496e-08   9.93981135e-09   7.61096040e-09   5.82916615e-09\n",
      "   4.46546006e-09   3.42160201e-09   2.62205760e-09   2.00991114e-09\n",
      "   1.54096215e-09   1.18145477e-09   9.05807220e-10   6.94492568e-10\n",
      "   5.32525034e-10   4.08249010e-10   3.13036319e-10   2.39923871e-10\n",
      "   1.83765034e-10   1.40624149e-10   1.07625156e-10   8.23461109e-11\n",
      "   6.26678124e-11   4.78334027e-11   3.61777951e-11   2.75496180e-11\n",
      "   2.07378993e-11   1.55912673e-11   1.15042361e-11   8.32543401e-12\n",
      "   5.90348957e-12   3.93565971e-12   2.42194444e-12   1.36234375e-12\n",
      "   6.05486110e-13   0.00000000e+00]\n"
     ]
    },
    {
     "data": {
      "image/png": "[encoded data removed]",
      "text/plain": [
       "<matplotlib.figure.Figure at 0x107435940>"
      ]
     },
     "metadata": {},
     "output_type": "display_data"
    }
   ],
   "source": [
    "Tg = 1000.0           # K\n",
    "Tb = 1000.0           # K\n",
    "P  = 101325.0         # Pa\n",
    "fv = 1E-6             # m3/m3\n",
    "C  = 0.01            # m2/mol\n",
    "\n",
    "Rg    = 8.31446       # J/mol*K\n",
    "hCokb = 0.01438777354 # m*K\n",
    "c     = 7.0\n",
    "N     = P/Rg/Tg       # mol/m3\n",
    "\n",
    "x = hCokb*C*N/c/fv/Tb\n",
    "\n",
    "n = np.arange(1,100)\n",
    "\n",
    "S = np.exp(-n*x)/n**4*( n*x*(n*x*(n*x+3)+6)+6 )\n",
    "S = np.cumsum(S)\n",
    "F = 1.0-15/np.pi**4*S\n",
    "\n",
    "plt.semilogy(n,F)\n",
    "plt.xlabel('n terms')\n",
    "plt.ylabel('F')\n",
    "\n",
    "err = np.abs(F[1:]-F[-1])/F[-1]\n",
    "print(err)"
   ]
  },
  {
   "cell_type": "code",
   "execution_count": 59,
   "metadata": {},
   "outputs": [
    {
     "data": {
      "text/plain": [
       "<matplotlib.text.Text at 0x107b38470>"
      ]
     },
     "execution_count": 59,
     "metadata": {},
     "output_type": "execute_result"
    },
    {
     "data": {
      "image/png": "[encoded data removed]",
      "text/plain": [
       "<matplotlib.figure.Figure at 0x107c3e5c0>"
      ]
     },
     "metadata": {},
     "output_type": "display_data"
    }
   ],
   "source": [
    "def FF(x, N):\n",
    "    n = np.arange(1,N+1)\n",
    "    S = np.exp(-n*x)/n**4*( n*x*(n*x*(n*x+3)+6)+6 )\n",
    "    return 1.0-15/np.pi**4*np.sum(S)\n",
    "\n",
    "xinv = np.linspace(0.01,2.0,100)\n",
    "x = 1.0/xinv\n",
    "y1 = np.empty(100)\n",
    "y2 = np.empty(100)\n",
    "y3 = np.empty(100)\n",
    "y4 = np.empty(100)\n",
    "\n",
    "for i,xx in enumerate(x):\n",
    "    y1[i] = FF(xx,1)\n",
    "    y2[i] = FF(xx,2)\n",
    "    y3[i] = FF(xx,3)\n",
    "    y4[i] = FF(xx,4)\n",
    "\n",
    "plt.plot(x,y1, linewidth=0.5)\n",
    "plt.plot(x,y2, linewidth=0.5)\n",
    "plt.plot(x,y3, linewidth=0.5)\n",
    "plt.plot(x,y4, linewidth=0.5)\n",
    "plt.xlabel('x')    \n",
    "plt.ylabel('F')"
   ]
  },
  {
   "cell_type": "code",
   "execution_count": null,
   "metadata": {
    "collapsed": true
   },
   "outputs": [],
   "source": []
  }
 ],
 "metadata": {
  "hide_input": false,
  "kernelspec": {
   "display_name": "Python 3",
   "language": "python",
   "name": "python3"
  },
  "language_info": {
   "codemirror_mode": {
    "name": "ipython",
    "version": 3
   },
   "file_extension": ".py",
   "mimetype": "text/x-python",
   "name": "python",
   "nbconvert_exporter": "python",
   "pygments_lexer": "ipython3",
   "version": "3.6.1"
  }
 },
 "nbformat": 4,
 "nbformat_minor": 2
}
